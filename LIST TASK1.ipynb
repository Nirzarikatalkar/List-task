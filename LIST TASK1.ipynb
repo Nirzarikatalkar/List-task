{
 "cells": [
  {
   "cell_type": "code",
   "execution_count": null,
   "id": "9054e5e6",
   "metadata": {},
   "outputs": [],
   "source": [
    "#LIST TASK\n",
    "\n",
    "#Add item 70 after 60 in the following Python List\n",
    "#input\n",
    "l1 = [10, 20, [30, 40, [50, 60], 80], 90, 100]\n",
    "#output\n",
    "[10, 20, [30, 40, [50, 60, 70], 80], 90, 100]"
   ]
  },
  {
   "cell_type": "code",
   "execution_count": 1,
   "id": "8d92aa50",
   "metadata": {},
   "outputs": [],
   "source": [
    "l1 = [10, 20, [30, 40, [50, 60], 80], 90, 100]"
   ]
  },
  {
   "cell_type": "code",
   "execution_count": 2,
   "id": "193b6d35",
   "metadata": {},
   "outputs": [
    {
     "name": "stdout",
     "output_type": "stream",
     "text": [
      "[10, 20, [30, 40, [50, 60, 70], 80], 90, 100]\n"
     ]
    }
   ],
   "source": [
    "l1[2][2].insert(60,70)\n",
    "print(l1)"
   ]
  },
  {
   "cell_type": "code",
   "execution_count": 4,
   "id": "83288077",
   "metadata": {},
   "outputs": [
    {
     "data": {
      "text/plain": [
       "[1, 2, [3, 4, 5, 6, [7, 8]], 9]"
      ]
     },
     "execution_count": 4,
     "metadata": {},
     "output_type": "execute_result"
    }
   ],
   "source": [
    "\n",
    "#add sublist [7,8] after 6\n",
    "#input\n",
    "#l2 = [1,2,[3,4,5,6],9]\n",
    "#output\n",
    "[1,2,[3,4,5,6,[7,8]],9]"
   ]
  },
  {
   "cell_type": "code",
   "execution_count": 5,
   "id": "ca11fbee",
   "metadata": {},
   "outputs": [],
   "source": [
    "l2 = [1,2,[3,4,5,6],9]"
   ]
  },
  {
   "cell_type": "code",
   "execution_count": 7,
   "id": "2b54e47a",
   "metadata": {},
   "outputs": [
    {
     "name": "stdout",
     "output_type": "stream",
     "text": [
      "[1, 2, [3, 4, 5, 6, [7, 8]], 9]\n"
     ]
    }
   ],
   "source": [
    "l2[2].insert(6,[7,8])\n",
    "print(l2)"
   ]
  },
  {
   "cell_type": "code",
   "execution_count": null,
   "id": "6592d8fa",
   "metadata": {},
   "outputs": [],
   "source": []
  }
 ],
 "metadata": {
  "kernelspec": {
   "display_name": "Python 3",
   "language": "python",
   "name": "python3"
  },
  "language_info": {
   "codemirror_mode": {
    "name": "ipython",
    "version": 3
   },
   "file_extension": ".py",
   "mimetype": "text/x-python",
   "name": "python",
   "nbconvert_exporter": "python",
   "pygments_lexer": "ipython3",
   "version": "3.8.8"
  }
 },
 "nbformat": 4,
 "nbformat_minor": 5
}
